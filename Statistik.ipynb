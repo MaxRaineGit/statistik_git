{
 "cells": [
  {
   "cell_type": "markdown",
   "metadata": {},
   "source": [
    "## Statistisk Analys av auto-mpg"
   ]
  },
  {
   "cell_type": "code",
   "execution_count": 32,
   "metadata": {},
   "outputs": [
    {
     "name": "stdout",
     "output_type": "stream",
     "text": [
      "Medelvärdena för varje del av datasettet är:\n",
      "mpg               23.514573\n",
      "cylinders          5.454774\n",
      "displacement     193.425879\n",
      "horsepower       104.469388\n",
      "weight          2970.424623\n",
      "acceleration      15.568090\n",
      "dtype: float64\n",
      "\n",
      "Median för varje del av datasettet är:\n",
      "mpg               23.0\n",
      "cylinders          4.0\n",
      "displacement     148.5\n",
      "horsepower        93.5\n",
      "weight          2803.5\n",
      "acceleration      15.5\n",
      "dtype: float64\n",
      "\n",
      "Standardavvikelse för varje del av datasettet är:\n",
      "mpg               7.815984\n",
      "cylinders         1.701004\n",
      "displacement    104.269838\n",
      "horsepower       38.491160\n",
      "weight          846.841774\n",
      "acceleration      2.757689\n",
      "dtype: float64\n"
     ]
    }
   ],
   "source": [
    "import pandas as pd\n",
    "import plotly_express as px\n",
    "import numpy as np\n",
    "\n",
    "auto_mpg = pd.read_csv(\"./auto-mpg.csv\")\n",
    "\n",
    "mpg_to_acceleration = auto_mpg.drop(columns=[\"model year\", \"origin\", \"car name\"])\n",
    "\n",
    "mpg_to_acceleration.replace(\"?\", np.nan, inplace=True)\n",
    "\n",
    "mpg_to_acceleration = mpg_to_acceleration.astype(float)\n",
    "\n",
    "mean_mpg = mpg_to_acceleration.mean()\n",
    "median_mpg = mpg_to_acceleration.median()\n",
    "standard_mpg = mpg_to_acceleration.std()\n",
    "print(f\"Medelvärdena för varje del av datasettet är:\")\n",
    "print(mean_mpg)\n",
    "print()\n",
    "print(f\"Median för varje del av datasettet är:\")\n",
    "print(median_mpg)\n",
    "print()\n",
    "print(f\"Standardavvikelse för varje del av datasettet är:\")\n",
    "print(standard_mpg)"
   ]
  }
 ],
 "metadata": {
  "kernelspec": {
   "display_name": "statistik_git-I2_Kh1oq",
   "language": "python",
   "name": "python3"
  },
  "language_info": {
   "codemirror_mode": {
    "name": "ipython",
    "version": 3
   },
   "file_extension": ".py",
   "mimetype": "text/x-python",
   "name": "python",
   "nbconvert_exporter": "python",
   "pygments_lexer": "ipython3",
   "version": "3.11.5"
  }
 },
 "nbformat": 4,
 "nbformat_minor": 2
}
